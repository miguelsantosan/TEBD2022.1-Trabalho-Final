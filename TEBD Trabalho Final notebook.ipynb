{
 "cells": [
  {
   "cell_type": "markdown",
   "metadata": {},
   "source": [
    "Instalo a biblioteca opencv-python para poder dar `import cv2`"
   ]
  },
  {
   "cell_type": "code",
   "execution_count": null,
   "metadata": {},
   "outputs": [],
   "source": [
    "!pip install opencv-python\n",
    "!pip install scikit-image\n",
    "!pip install imagehash\n",
    "!pip install -U sentence-transformers\n",
    "!pip install rdflib"
   ]
  },
  {
   "cell_type": "markdown",
   "metadata": {},
   "source": [
    "# Imports"
   ]
  },
  {
   "cell_type": "code",
   "execution_count": null,
   "metadata": {},
   "outputs": [],
   "source": [
    "import requests\n",
    "import cv2\n",
    "from PIL import Image\n",
    "import imagehash\n",
    "import rdflib\n",
    "from rdflib import Graph\n",
    "import os\n",
    "import shutil"
   ]
  },
  {
   "cell_type": "markdown",
   "metadata": {},
   "source": [
    "# Variáveis globais para nomes de diretórios"
   ]
  },
  {
   "cell_type": "code",
   "execution_count": null,
   "metadata": {},
   "outputs": [],
   "source": [
    "name_dir_RDF_files_original = 'RDF'\n",
    "name_dir_RDF_files_mod = 'RDF_mod'\n",
    "name_dir_imgs = 'Imagens'"
   ]
  },
  {
   "cell_type": "markdown",
   "metadata": {},
   "source": [
    "# Lendo os arquivos RDF e salvando as imagens a partir das suas URIs"
   ]
  },
  {
   "cell_type": "markdown",
   "metadata": {},
   "source": [
    "Uso `os.listdir('RDF')` para pegar os nomes dos arquivos do diretório RDF, que contém os arquivos RDF com os dados sobre as imagens.\n",
    "\n",
    "Com rdflib.Graph(), posso retornar as triplas"
   ]
  },
  {
   "cell_type": "markdown",
   "metadata": {},
   "source": [
    "Por algum motivo, o código dá erro se os arquivos RDF usarem `@PREFIX dbo: <http://dbpedia.org/ontology/>` . ou `@PREFIX dbp: <http://dbpedia.org/property/> .`, então optei por não usar nos arquivos"
   ]
  },
  {
   "cell_type": "code",
   "execution_count": null,
   "metadata": {},
   "outputs": [],
   "source": [
    "# A funcao recebe como parametros:\n",
    "# - Uma lista com os paths dos arquivos RDF a serem lidos\n",
    "# - O nome do diretorio onde as imagens serao salvas\n",
    "# - Um dicionario que mapeia a URI onde cada imagem foi baixada a seu arquivo\n",
    "# - Um dicionario que mapeia o path do arquivo RDF de cada imagem\n",
    "def le_RDF_salva_imgs(list_path_RDF_files, name_dir_imgs, dict_img_URI, dict_img_RDF_path):\n",
    "    img_counter = 1 # contador usado para nomear as imagens baixadas a partir da URI retirada do arquivo RDF\n",
    "\n",
    "    # Se o diretorio onde as imagens serao salvas nao existe, crio ele\n",
    "    if not os.path.exists('Imagens'):\n",
    "            os.makedirs('Imagens')\n",
    "\n",
    "    for filepath in list_path_RDF_files: # pego todos os arquivos do diretorio\n",
    "        # Grafo que contem a tripla (obra, rdf:resource, URI)\n",
    "        graph_RDF_file = Graph() # o grafo mantinha as triplas anteriores, entao deve ser resetado\n",
    "        graph_RDF_file.parse(filepath, format=\"ttl\")\n",
    "        path_img = name_dir_imgs + '\\img_'+\"%04d\" % (img_counter,)+'.jpg'\n",
    "        dict_img_RDF_path[path_img] = filepath # pego o arquivo RDF referente a imagem\n",
    "        img_counter += 1    \n",
    "        for subj, pred, obj in graph_RDF_file:\n",
    "            # Se o predicado for rdf:resource, pego o objeto, que sera a URL da imagem, e realizo o download desta\n",
    "            if str(pred) == 'http://www.w3.org/1999/02/22-rdf-syntax-ns#resource':\n",
    "                img_data = requests.get(str(obj)).content\n",
    "                with open(path_img, 'wb') as handler:\n",
    "                    handler.write(img_data)\n",
    "                dict_img_URI[path_img] = str(obj) # salvo o par (path_img, URI) no dicionario"
   ]
  },
  {
   "cell_type": "code",
   "execution_count": null,
   "metadata": {},
   "outputs": [],
   "source": [
    "import os\n",
    "\n",
    "##desnecessario\n",
    "dict_img_URI = {} # dicionario que tem o caminho para o arquivo da imagens como chave, com sua URI como valor (acabei nao usando)\n",
    "\n",
    "# Dicionario que mapeia o path do arquivo RDF de cada imagem\n",
    "dict_img_RDF_path = {}\n",
    "\n",
    "# Pego o nome dos arquivos RDF originais, que usarei para obter o path deles\n",
    "list_RDF_files_original_name = os.listdir(name_dir_RDF_files_original) # pego todos os arquivos RDF do diretório\n",
    "\n",
    "#print(list_RDF_files_original_name) ##Debug\n",
    "\n",
    "# Pego o path para os arquivos RDF originais, que usarei para salvar as imagens do arquivo RDF\n",
    "list_RDF_files_original_path = [name_dir_RDF_files_original + '\\\\' + file_name for file_name in list_RDF_files_original_name]\n",
    "\n",
    "#print(list_RDF_files_original_path) ##Debug"
   ]
  },
  {
   "cell_type": "code",
   "execution_count": null,
   "metadata": {},
   "outputs": [],
   "source": [
    "le_RDF_salva_imgs(list_RDF_files_original_path, name_dir_imgs, dict_img_URI, dict_img_RDF_path)"
   ]
  },
  {
   "cell_type": "markdown",
   "metadata": {},
   "source": [
    "# Alterando os arquivos RDF"
   ]
  },
  {
   "cell_type": "markdown",
   "metadata": {},
   "source": [
    "Devido a dificuldades para encontrar uma maneira boa e consistente de comparar imagens, para fins de demonstração, irei criar um dicionário para separar as imagens semelhantes"
   ]
  },
  {
   "cell_type": "code",
   "execution_count": null,
   "metadata": {},
   "outputs": [],
   "source": [
    "# Dicionario no formato {img_path : sim_grp}\n",
    "# Onde sim_grp denota o grupo de semelhanca de uma imagem\n",
    "# Imagens semelhantes pertencem ao mesmo grupo\n",
    "dict_img_sim_grp = {}\n",
    "\n",
    "# GRUPO 10001 - Moca com o Brinco de Perola\n",
    "dict_img_sim_grp[name_dir_imgs + '\\\\' + 'img_0001' + '.jpg'] = 10001\n",
    "dict_img_sim_grp[name_dir_imgs + '\\\\' + 'img_0002' + '.jpg'] = 10001\n",
    "dict_img_sim_grp[name_dir_imgs + '\\\\' + 'img_0003' + '.jpg'] = 10001\n",
    "\n",
    "# GRUPO 10002 - Mona Lisa\n",
    "dict_img_sim_grp[name_dir_imgs + '\\\\' + 'img_0004' + '.jpg'] = 10002\n",
    "dict_img_sim_grp[name_dir_imgs + '\\\\' + 'img_0005' + '.jpg'] = 10002\n",
    "dict_img_sim_grp[name_dir_imgs + '\\\\' + 'img_0006' + '.jpg'] = 10002\n",
    "dict_img_sim_grp[name_dir_imgs + '\\\\' + 'img_0007' + '.jpg'] = 10002\n",
    "\n",
    "# GRUPO 10003 - O Nascimento de Venus\n",
    "dict_img_sim_grp[name_dir_imgs + '\\\\' + 'img_0008' + '.jpg'] = 10003\n",
    "dict_img_sim_grp[name_dir_imgs + '\\\\' + 'img_0009' + '.jpg'] = 10003\n",
    "dict_img_sim_grp[name_dir_imgs + '\\\\' + 'img_0010' + '.jpg'] = 10003\n",
    "\n",
    "# GRUPO 10004 - A Noite Estrelada\n",
    "dict_img_sim_grp[name_dir_imgs + '\\\\' + 'img_0011' + '.jpg'] = 10004\n",
    "dict_img_sim_grp[name_dir_imgs + '\\\\' + 'img_0012' + '.jpg'] = 10004\n",
    "dict_img_sim_grp[name_dir_imgs + '\\\\' + 'img_0013' + '.jpg'] = 10004"
   ]
  },
  {
   "cell_type": "markdown",
   "metadata": {},
   "source": [
    "Agora, para cada grupo, vou iterar sobre todos os seus arquivos, e adicionar as triplas `(subj,pred,obj)` no `dicionario dict_grp_triples`"
   ]
  },
  {
   "cell_type": "code",
   "execution_count": null,
   "metadata": {},
   "outputs": [],
   "source": [
    "# A funcao recebe como parametros:\n",
    "# - Um dicionario que mapeia o path do arquivo RDF de cada imagem\n",
    "# - Um dicionario que mapeia o grupo de semelhanca de cada imagem\n",
    "# - Um dicionario que mapeia uma lista de triplas de cada arquivo RDF referente a uma imagem\n",
    "def le_RDF_armazena_tripla_no_dict(dict_img_RDF_path, dict_img_sim_grp, dict_grp_triples):\n",
    "    #print(list_path_RDF_files) ##Debug\n",
    "\n",
    "    for img_path in dict_img_sim_grp: # pego todos os arquivos do diretorio\n",
    "        #print(img_path) ##Debug\n",
    "\n",
    "        # Grafo que contem a tripla (SUBJ, PRED, OBJ)\n",
    "        graph_RDF_file = Graph() # o grafo mantem as triplas anteriores, entao deve ser resetado em cada iteracao\n",
    "\n",
    "        # Pego o numero do grupo de semelhanca\n",
    "        grp_num = dict_img_sim_grp[img_path]\n",
    "\n",
    "        # Pego o path do arquivo RDF referente a imagem, para poder abri-lo\n",
    "        rdf_path = dict_img_RDF_path[img_path]\n",
    "\n",
    "        graph_RDF_file.parse(rdf_path, format=\"ttl\")\n",
    "        for subj, pred, obj in graph_RDF_file:\n",
    "            # Se o predicado nao for rdf:resource, adiciono a tripla no dicionario\n",
    "            if str(pred) != 'http://www.w3.org/1999/02/22-rdf-syntax-ns#resource':\n",
    "                #print('SUBJ:',subj, '\\nPRED:',pred, '\\nOBJ:',obj,'\\n==========') ##Debug\n",
    "                triple = (str(subj), str(pred), str(obj))\n",
    "                # Se ainda nao atribui triplas para o grupo, nao posso dar append, entao crio uma lista vazia\n",
    "                if grp_num not in dict_grp_triples:\n",
    "                    dict_grp_triples[grp_num] = []\n",
    "                if triple not in dict_grp_triples[grp_num]:\n",
    "                    dict_grp_triples[grp_num].append((str(subj), str(pred), str(obj)))"
   ]
  },
  {
   "cell_type": "code",
   "execution_count": null,
   "metadata": {},
   "outputs": [],
   "source": [
    "# Dicionario no formato {sim_grp : [(subj,pred,obj)]}\n",
    "# Cada sim_grp tem uma lista de triplas presentes nos arquivos RDF pertencentes a um sim_grp\n",
    "# Imagens semelhantes pertencem ao mesmo grupo\n",
    "dict_grp_triples = {}\n",
    "\n",
    "le_RDF_armazena_tripla_no_dict(dict_img_RDF_path, dict_img_sim_grp, dict_grp_triples)"
   ]
  },
  {
   "cell_type": "code",
   "execution_count": null,
   "metadata": {},
   "outputs": [],
   "source": [
    "for sim_grp in dict_grp_triples:\n",
    "    print(\"Grupo:\", sim_grp)\n",
    "    for triple in dict_grp_triples[sim_grp]:\n",
    "        print(triple)"
   ]
  },
  {
   "cell_type": "markdown",
   "metadata": {},
   "source": [
    "# Leio os arquivos RDF e adiciono triplas que não estão presentes neles"
   ]
  },
  {
   "cell_type": "code",
   "execution_count": null,
   "metadata": {},
   "outputs": [],
   "source": [
    "import os\n",
    "import shutil\n",
    "\n",
    "# A funcao recebe como parametros:\n",
    "# - Um dicionario que mapeia o path do arquivo RDF de cada imagem\n",
    "# - Um dicionario que mapeia o grupo de semelhanca de cada imagem\n",
    "# - Um dicionario que mapeia uma lista de triplas de cada arquivo RDF referente a uma imagem\n",
    "# - O nome do diretorio onde os arquivos modificados serao salvos\n",
    "def le_RDF_salva_copia_modificada(dict_img_RDF_path, dict_img_sim_grp, dict_grp_triples, name_dir_RDF_files_mod):\n",
    "    list_RDF_file_triples = [] # triplas que ja estao no arquivo RDF, uso pra comparar com as triplas do dicionario\n",
    "    list_triples_add = [] # triplas que irei adicionar no arquivo RDF\n",
    "    \n",
    "    # Se o diretorio onde os arquivos modificados serao salvos nao existe, crio ele\n",
    "    if not os.path.exists(name_dir_RDF_files_mod):\n",
    "            os.makedirs(name_dir_RDF_files_mod)\n",
    "\n",
    "    for img_path in dict_img_sim_grp: # pego todos os arquivos do diretorio\n",
    "        list_RDF_file_triples = [] # novo arquivo, reseto a lista\n",
    "        list_triples_add = [] # novo arquivo, reseto a lista\n",
    "\n",
    "        # Grafo que contem a tripla (SUBJ, PRED, OBJ)\n",
    "        graph_RDF_file = Graph() # o grafo mantem as triplas anteriores, entao deve ser resetado em cada iteracao\n",
    "\n",
    "        # Pego o numero do grupo de semelhanca\n",
    "        sim_grp = dict_img_sim_grp[img_path]\n",
    "\n",
    "        # Pego o path do arquivo RDF referente a imagem, para poder abri-lo\n",
    "        rdf_path = dict_img_RDF_path[img_path]\n",
    "\n",
    "        graph_RDF_file.parse(rdf_path, format=\"ttl\")\n",
    "\n",
    "        for subj, pred, obj in graph_RDF_file:\n",
    "            trpl = (str(subj), str(pred), str(obj))\n",
    "            list_RDF_file_triples.append(trpl)\n",
    "\n",
    "        # Para cada tripla do dicionario, irei verificar se ela esta no arquivo RDF\n",
    "        for triple in dict_grp_triples[sim_grp]:\n",
    "            if triple not in list_RDF_file_triples:\n",
    "                list_triples_add.append(triple)\n",
    "\n",
    "        new_rdf_file = name_dir_RDF_files_mod + '\\\\' + rdf_path[4::]\n",
    "        # Crio uma copia do arquivo no diretorio de arquivos modificados\n",
    "        shutil.copy(rdf_path, new_rdf_file)\n",
    "\n",
    "        with open(new_rdf_file, 'a') as new_rdf_file:\n",
    "            for triple in list_triples_add:\n",
    "                if 'http' in triple[2]:\n",
    "                    line = '<' + triple[0] + '>' + \" \" + '<' + triple[1] + '>' + \" \" + '<' + triple[2] + '>' + \" .\"\n",
    "                else:\n",
    "                    line = '<' + triple[0] + '>' + \" \" + '<' + triple[1] + '>' + \" \" + '\\\"' + triple[2] + '\\\"' + \" .\"\n",
    "                new_rdf_file.write('\\n' + line + '\\n')\n",
    "            "
   ]
  },
  {
   "cell_type": "code",
   "execution_count": null,
   "metadata": {},
   "outputs": [],
   "source": [
    "le_RDF_salva_copia_modificada(dict_img_RDF_path, dict_img_sim_grp, dict_grp_triples, name_dir_RDF_files_mod)"
   ]
  },
  {
   "cell_type": "markdown",
   "metadata": {},
   "source": [
    "# Plotando o grafo\n",
    "Plotando o grafo"
   ]
  },
  {
   "cell_type": "code",
   "execution_count": null,
   "metadata": {},
   "outputs": [],
   "source": [
    "import rdflib\n",
    "from rdflib.extras.external_graph_libs import rdflib_to_networkx_multidigraph\n",
    "import networkx as nx\n",
    "import matplotlib.pyplot as plt\n",
    "\n",
    "def le_RDF_plota_grafo(rdf_path):\n",
    "    graph_RDF_file = Graph() # grafo que contem a tripla (obra, rdf:resource, URI)\n",
    "    result = graph_RDF_file.parse(rdf_path, format=\"ttl\")\n",
    "\n",
    "    graph = rdflib_to_networkx_multidigraph(result)\n",
    "\n",
    "    pos = nx.spring_layout(graph, scale=2)\n",
    "    edge_labels = nx.get_edge_attributes(graph, 'r')\n",
    "    nx.draw_networkx_edge_labels(graph, pos, edge_labels=edge_labels)\n",
    "    nx.draw(graph, with_labels=True)\n",
    "\n",
    "    #if not in interactive mode for \n",
    "    plt.show()"
   ]
  },
  {
   "cell_type": "code",
   "execution_count": null,
   "metadata": {},
   "outputs": [],
   "source": [
    "path = name_dir_RDF_files_mod + \"\\\\img_MonaLisa_0001.ttl\"\n",
    "\n",
    "le_RDF_plota_grafo(path)"
   ]
  }
 ],
 "metadata": {
  "kernelspec": {
   "display_name": "Python 3.9.13 64-bit (windows store)",
   "language": "python",
   "name": "python3"
  },
  "language_info": {
   "codemirror_mode": {
    "name": "ipython",
    "version": 3
   },
   "file_extension": ".py",
   "mimetype": "text/x-python",
   "name": "python",
   "nbconvert_exporter": "python",
   "pygments_lexer": "ipython3",
   "version": "3.9.13"
  },
  "orig_nbformat": 4,
  "vscode": {
   "interpreter": {
    "hash": "2a30d898375753148e8fc7012ddaeb574b6d0ae01b90a80f9092b4d27bfa7765"
   }
  }
 },
 "nbformat": 4,
 "nbformat_minor": 2
}
